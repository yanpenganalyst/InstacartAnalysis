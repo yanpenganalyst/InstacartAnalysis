{
 "cells": [
  {
   "cell_type": "markdown",
   "id": "d94e5dd2",
   "metadata": {},
   "source": [
    "# List of Content\n",
    "## 1. Import data\n",
    "## 2. Customer profiling\n",
    "### 2.1 Classification criteria\n",
    "### 2.2 Profile flag\n",
    "### 2.3 Distribution of customer profiles\n",
    "### 2.4 Usage frequency and expenditure of customer profiles\n",
    "## 3. Customer profiles across regions and departments\n",
    "### 3.1 Regional comparison\n",
    "### 3.2 Departmental comparison\n",
    "## 4. Export data"
   ]
  },
  {
   "cell_type": "code",
   "execution_count": 1,
   "id": "d7ce323f",
   "metadata": {},
   "outputs": [],
   "source": [
    "# Import libraries\n",
    "\n",
    "import pandas as pd\n",
    "import numpy as np\n",
    "import os\n",
    "import matplotlib.pyplot as plt\n",
    "import seaborn as sns\n",
    "import scipy"
   ]
  },
  {
   "cell_type": "markdown",
   "id": "aaf553fb",
   "metadata": {},
   "source": [
    "# 1. Import data"
   ]
  },
  {
   "cell_type": "code",
   "execution_count": 2,
   "id": "8d7fe38b",
   "metadata": {},
   "outputs": [],
   "source": [
    "path = r'C:\\Users\\Yan Peng\\10-2020 Instacart Basket Analysis'"
   ]
  },
  {
   "cell_type": "code",
   "execution_count": 4,
   "id": "57daf108",
   "metadata": {},
   "outputs": [],
   "source": [
    "df = pd.read_pickle(os.path.join(path, '02 Data', 'Prepared Data', 'orders_products_cust_active.pkl'))"
   ]
  },
  {
   "cell_type": "code",
   "execution_count": 5,
   "id": "a09c25f3",
   "metadata": {},
   "outputs": [
    {
     "data": {
      "text/plain": [
       "(30993489, 37)"
      ]
     },
     "execution_count": 5,
     "metadata": {},
     "output_type": "execute_result"
    }
   ],
   "source": [
    "df.shape"
   ]
  },
  {
   "cell_type": "code",
   "execution_count": 5,
   "id": "1b88c525",
   "metadata": {},
   "outputs": [
    {
     "data": {
      "text/plain": [
       "Index(['order_id', 'user_id', 'order_number', 'orders_day_of_week',\n",
       "       'order_hour_of_day', 'days_since_prior_order', 'product_id',\n",
       "       'add_to_cart_order', 'reordered', '_merge', 'product_name', 'aisle_id',\n",
       "       'department_id', 'prices', '_merge2', 'price_label', 'busiest_day',\n",
       "       'busiest_days', 'busiest_period_of_day', 'max_order', 'loyalty_flag',\n",
       "       'avg_price', 'spending_flag', 'median_days_prior', 'order_freq_flag',\n",
       "       'first_name', 'surname', 'gender', 'state', 'age', 'date_joined',\n",
       "       'nr_dependants', 'fam_status', 'income', '_merge3', 'region',\n",
       "       'activity_flag'],\n",
       "      dtype='object')"
      ]
     },
     "execution_count": 5,
     "metadata": {},
     "output_type": "execute_result"
    }
   ],
   "source": [
    "df.columns"
   ]
  },
  {
   "cell_type": "code",
   "execution_count": 15,
   "id": "c4063bd2",
   "metadata": {},
   "outputs": [],
   "source": [
    "df_dep = pd.read_csv(os.path.join(path, '02 Data', 'Prepared Data', 'departments_wrangled.csv'), index_col = False)"
   ]
  },
  {
   "cell_type": "markdown",
   "id": "55e094d6",
   "metadata": {},
   "source": [
    "# 2. Customer profiling"
   ]
  },
  {
   "cell_type": "markdown",
   "id": "a9baa08f",
   "metadata": {},
   "source": [
    "## 2.1 Classification criteria"
   ]
  },
  {
   "cell_type": "code",
   "execution_count": 7,
   "id": "e4d7c550",
   "metadata": {},
   "outputs": [
    {
     "data": {
      "text/plain": [
       "count    3.099349e+07\n",
       "mean     4.946786e+01\n",
       "std      1.848521e+01\n",
       "min      1.800000e+01\n",
       "25%      3.300000e+01\n",
       "50%      4.900000e+01\n",
       "75%      6.500000e+01\n",
       "max      8.100000e+01\n",
       "Name: age, dtype: float64"
      ]
     },
     "execution_count": 7,
     "metadata": {},
     "output_type": "execute_result"
    }
   ],
   "source": [
    "# Check the 'age' and 'fam_status' columns for general stats\n",
    "\n",
    "df['age'].describe()"
   ]
  },
  {
   "cell_type": "code",
   "execution_count": 8,
   "id": "2c6f177a",
   "metadata": {},
   "outputs": [
    {
     "data": {
      "text/plain": [
       "fam_status\n",
       "married                             21763585\n",
       "single                               5099384\n",
       "divorced/widowed                     2647799\n",
       "living with parents and siblings     1482721\n",
       "Name: count, dtype: int64"
      ]
     },
     "execution_count": 8,
     "metadata": {},
     "output_type": "execute_result"
    }
   ],
   "source": [
    "df['fam_status'].value_counts()"
   ]
  },
  {
   "cell_type": "code",
   "execution_count": 9,
   "id": "fe7578e9",
   "metadata": {},
   "outputs": [
    {
     "data": {
      "text/plain": [
       "age\n",
       "60    112225\n",
       "61    128753\n",
       "62    118800\n",
       "63    130145\n",
       "64    133916\n",
       "65    116311\n",
       "66    107183\n",
       "67    124585\n",
       "68    119411\n",
       "69    114322\n",
       "70    117056\n",
       "71    120204\n",
       "72    115303\n",
       "73    126709\n",
       "74    115142\n",
       "75    123246\n",
       "76    111721\n",
       "77    114227\n",
       "78    122980\n",
       "79    119251\n",
       "80    117965\n",
       "81    138344\n",
       "Name: count, dtype: int64"
      ]
     },
     "execution_count": 9,
     "metadata": {},
     "output_type": "execute_result"
    }
   ],
   "source": [
    "df[df['fam_status'] == 'divorced/widowed']['age'].value_counts().sort_index()"
   ]
  },
  {
   "cell_type": "code",
   "execution_count": 10,
   "id": "8c94a464",
   "metadata": {},
   "outputs": [
    {
     "data": {
      "text/plain": [
       "age\n",
       "18    359514\n",
       "19    391011\n",
       "20    360430\n",
       "21    371766\n",
       "Name: count, dtype: int64"
      ]
     },
     "execution_count": 10,
     "metadata": {},
     "output_type": "execute_result"
    }
   ],
   "source": [
    "df[df['fam_status'] == 'living with parents and siblings']['age'].value_counts().sort_index()"
   ]
  },
  {
   "cell_type": "markdown",
   "id": "e934c7d5",
   "metadata": {},
   "source": [
    "##### I use the following classification for customer types based on age and family status: Young single (or living with parents and siblings)/married adult (age 18-39), Middle-aged single/married adult (40-59), Older single (or divorced/widowed)/married adult (60+)\n",
    "\n",
    "##### Notes:\n",
    "##### - The stats above show that only young adults appear in the category \"living with parents and siblings\" and only older adults in \"divorced/widowed\". These customers are thus integrated into their respective singles' category.\n",
    "##### - Previous analysis has shown that customers under 40 years old have an income below $70000, whereas the income level of customers over 40 is around 110000. In the current classfication, the first income group is thus implied in the profiles of Young and Middle-aged adult and the second in Older adult."
   ]
  },
  {
   "cell_type": "markdown",
   "id": "1035a425",
   "metadata": {},
   "source": [
    "## 2.2 Profile flag"
   ]
  },
  {
   "cell_type": "code",
   "execution_count": 6,
   "id": "889524cc",
   "metadata": {},
   "outputs": [],
   "source": [
    "# Create a \"age_fam_profile\" column based on the criteria above\n",
    "\n",
    "df.loc[(df['age'] <= 39) & (df['fam_status'] == 'single') | (df['fam_status'] == 'living with parents and siblings'), 'age_fam_profile'] = 'Young single adult'"
   ]
  },
  {
   "cell_type": "code",
   "execution_count": 7,
   "id": "e38d8c2e",
   "metadata": {},
   "outputs": [],
   "source": [
    "df.loc[(df['age'] <= 39) & (df['fam_status'] == 'married'), 'age_fam_profile'] = 'Young married adult'"
   ]
  },
  {
   "cell_type": "code",
   "execution_count": 8,
   "id": "db4d9b36",
   "metadata": {},
   "outputs": [],
   "source": [
    "df.loc[(df['age'] >= 40) & (df['age'] <= 59) & (df['fam_status'] == 'single'), 'age_fam_profile'] = 'Middle-aged single adult'"
   ]
  },
  {
   "cell_type": "code",
   "execution_count": 9,
   "id": "ab9b67a3",
   "metadata": {},
   "outputs": [],
   "source": [
    "df.loc[(df['age'] >= 40) & (df['age'] <= 59) & (df['fam_status'] == 'married'), 'age_fam_profile'] = 'Middle-aged married adult'"
   ]
  },
  {
   "cell_type": "code",
   "execution_count": 10,
   "id": "3adf9a8d",
   "metadata": {},
   "outputs": [],
   "source": [
    "df.loc[(df['age'] >= 60) & (df['fam_status'] == 'single') | (df['fam_status'] == 'divorced/widowed'), 'age_fam_profile'] = 'Older single adult'"
   ]
  },
  {
   "cell_type": "code",
   "execution_count": 11,
   "id": "0e105f11",
   "metadata": {},
   "outputs": [],
   "source": [
    "df.loc[(df['age'] >= 60) & (df['fam_status'] == 'married'), 'age_fam_profile'] = 'Older married adult'"
   ]
  },
  {
   "cell_type": "code",
   "execution_count": 12,
   "id": "354d6863",
   "metadata": {},
   "outputs": [
    {
     "data": {
      "text/plain": [
       "age_fam_profile\n",
       "Middle-aged married adult    7297994\n",
       "Middle-aged single adult     2436349\n",
       "Older married adult          7936376\n",
       "Older single adult           2647799\n",
       "Young married adult          6529215\n",
       "Young single adult           4145756\n",
       "Name: count, dtype: int64"
      ]
     },
     "execution_count": 12,
     "metadata": {},
     "output_type": "execute_result"
    }
   ],
   "source": [
    "# Frequency check on the new column\n",
    "\n",
    "df['age_fam_profile'].value_counts().sort_index()"
   ]
  },
  {
   "cell_type": "code",
   "execution_count": 18,
   "id": "906e8ec7",
   "metadata": {},
   "outputs": [
    {
     "data": {
      "text/plain": [
       "30993489"
      ]
     },
     "execution_count": 18,
     "metadata": {},
     "output_type": "execute_result"
    }
   ],
   "source": [
    "# Check non-NaN values\n",
    "\n",
    "df['age_fam_profile'].count()"
   ]
  },
  {
   "cell_type": "markdown",
   "id": "ef66e111",
   "metadata": {},
   "source": [
    "## 2.3 Distribution of customer profiles"
   ]
  },
  {
   "cell_type": "code",
   "execution_count": 23,
   "id": "7caea369",
   "metadata": {},
   "outputs": [],
   "source": [
    "# Define the desired order of the age-family profiles\n",
    "\n",
    "desired_order = ['Young single adult', 'Young married adult', 'Middle-aged single adult', \n",
    "                 'Middle-aged married adult', 'Older single adult', 'Older married adult']"
   ]
  },
  {
   "cell_type": "code",
   "execution_count": 20,
   "id": "44685e5e",
   "metadata": {},
   "outputs": [
    {
     "data": {
      "text/plain": [
       "age_fam_profile\n",
       "Young single adult           4145756\n",
       "Young married adult          6529215\n",
       "Middle-aged single adult     2436349\n",
       "Middle-aged married adult    7297994\n",
       "Older single adult           2647799\n",
       "Older married adult          7936376\n",
       "Name: count, dtype: int64"
      ]
     },
     "execution_count": 20,
     "metadata": {},
     "output_type": "execute_result"
    }
   ],
   "source": [
    "# Frequency check on the age-family profiles\n",
    "\n",
    "df['age_fam_profile'].value_counts()[desired_order]"
   ]
  },
  {
   "cell_type": "code",
   "execution_count": 21,
   "id": "6e6434ee",
   "metadata": {},
   "outputs": [
    {
     "data": {
      "text/plain": [
       "Text(0.5, 0, 'Count')"
      ]
     },
     "execution_count": 21,
     "metadata": {},
     "output_type": "execute_result"
    },
    {
     "data": {
      "image/png": "[encoded data removed]",
      "text/plain": [
       "<Figure size 1600x1000 with 1 Axes>"
      ]
     },
     "metadata": {},
     "output_type": "display_data"
    }
   ],
   "source": [
    "# Create a horizontal bar chart\n",
    "\n",
    "bar_profile_distr = df['age_fam_profile'].value_counts()[desired_order].plot.barh(figsize=(16, 10))\n",
    "plt.title('Distribution of Age-Family Profiles')\n",
    "plt.ylabel('Age-Family Profiles')\n",
    "plt.xlabel('Count')"
   ]
  },
  {
   "cell_type": "markdown",
   "id": "3ec5db42",
   "metadata": {},
   "source": [
    "##### The chart shows that married people purchase more items than single people."
   ]
  },
  {
   "cell_type": "code",
   "execution_count": 22,
   "id": "a5c88a03",
   "metadata": {},
   "outputs": [],
   "source": [
    "# Export chart\n",
    "\n",
    "bar_profile_distr.figure.savefig(os.path.join(path, '04 Analysis','Visualizations', 'profile_distribution.png'))"
   ]
  },
  {
   "cell_type": "markdown",
   "id": "cd2f1577",
   "metadata": {},
   "source": [
    "## 2.4 Usage frequency and expenditure of customer profiles"
   ]
  },
  {
   "cell_type": "code",
   "execution_count": 23,
   "id": "2d31ccba",
   "metadata": {},
   "outputs": [
    {
     "data": {
      "text/html": [
       "<div>\n",
       "<style scoped>\n",
       "    .dataframe tbody tr th:only-of-type {\n",
       "        vertical-align: middle;\n",
       "    }\n",
       "\n",
       "    .dataframe tbody tr th {\n",
       "        vertical-align: top;\n",
       "    }\n",
       "\n",
       "    .dataframe thead tr th {\n",
       "        text-align: left;\n",
       "    }\n",
       "\n",
       "    .dataframe thead tr:last-of-type th {\n",
       "        text-align: right;\n",
       "    }\n",
       "</style>\n",
       "<table border=\"1\" class=\"dataframe\">\n",
       "  <thead>\n",
       "    <tr>\n",
       "      <th></th>\n",
       "      <th colspan=\"3\" halign=\"left\">max_order</th>\n",
       "      <th colspan=\"3\" halign=\"left\">prices</th>\n",
       "    </tr>\n",
       "    <tr>\n",
       "      <th></th>\n",
       "      <th>mean</th>\n",
       "      <th>min</th>\n",
       "      <th>max</th>\n",
       "      <th>min</th>\n",
       "      <th>mean</th>\n",
       "      <th>max</th>\n",
       "    </tr>\n",
       "    <tr>\n",
       "      <th>age_fam_profile</th>\n",
       "      <th></th>\n",
       "      <th></th>\n",
       "      <th></th>\n",
       "      <th></th>\n",
       "      <th></th>\n",
       "      <th></th>\n",
       "    </tr>\n",
       "  </thead>\n",
       "  <tbody>\n",
       "    <tr>\n",
       "      <th>Young single adult</th>\n",
       "      <td>34.506897</td>\n",
       "      <td>5</td>\n",
       "      <td>99</td>\n",
       "      <td>1.0</td>\n",
       "      <td>7.786744</td>\n",
       "      <td>25.0</td>\n",
       "    </tr>\n",
       "    <tr>\n",
       "      <th>Young married adult</th>\n",
       "      <td>34.503532</td>\n",
       "      <td>5</td>\n",
       "      <td>99</td>\n",
       "      <td>1.0</td>\n",
       "      <td>7.783595</td>\n",
       "      <td>25.0</td>\n",
       "    </tr>\n",
       "    <tr>\n",
       "      <th>Middle-aged single adult</th>\n",
       "      <td>35.038547</td>\n",
       "      <td>5</td>\n",
       "      <td>99</td>\n",
       "      <td>1.0</td>\n",
       "      <td>7.788593</td>\n",
       "      <td>25.0</td>\n",
       "    </tr>\n",
       "    <tr>\n",
       "      <th>Middle-aged married adult</th>\n",
       "      <td>34.208532</td>\n",
       "      <td>5</td>\n",
       "      <td>99</td>\n",
       "      <td>1.0</td>\n",
       "      <td>7.792658</td>\n",
       "      <td>25.0</td>\n",
       "    </tr>\n",
       "    <tr>\n",
       "      <th>Older single adult</th>\n",
       "      <td>34.710110</td>\n",
       "      <td>5</td>\n",
       "      <td>99</td>\n",
       "      <td>1.0</td>\n",
       "      <td>7.801016</td>\n",
       "      <td>25.0</td>\n",
       "    </tr>\n",
       "    <tr>\n",
       "      <th>Older married adult</th>\n",
       "      <td>34.236213</td>\n",
       "      <td>5</td>\n",
       "      <td>99</td>\n",
       "      <td>1.0</td>\n",
       "      <td>7.793589</td>\n",
       "      <td>25.0</td>\n",
       "    </tr>\n",
       "  </tbody>\n",
       "</table>\n",
       "</div>"
      ],
      "text/plain": [
       "                           max_order         prices                \n",
       "                                mean min max    min      mean   max\n",
       "age_fam_profile                                                    \n",
       "Young single adult         34.506897   5  99    1.0  7.786744  25.0\n",
       "Young married adult        34.503532   5  99    1.0  7.783595  25.0\n",
       "Middle-aged single adult   35.038547   5  99    1.0  7.788593  25.0\n",
       "Middle-aged married adult  34.208532   5  99    1.0  7.792658  25.0\n",
       "Older single adult         34.710110   5  99    1.0  7.801016  25.0\n",
       "Older married adult        34.236213   5  99    1.0  7.793589  25.0"
      ]
     },
     "execution_count": 23,
     "metadata": {},
     "output_type": "execute_result"
    }
   ],
   "source": [
    "# Mean, min, and max of the total order numbers and item prices\n",
    "\n",
    "df.groupby('age_fam_profile').agg({'max_order': ['mean', 'min', 'max'], 'prices': ['min', 'mean', 'max']}).loc[desired_order]"
   ]
  },
  {
   "cell_type": "markdown",
   "id": "7cf91f85",
   "metadata": {},
   "source": [
    "##### The customer profiles exhibit similar values in terms of total number of orders and average item price purchased."
   ]
  },
  {
   "cell_type": "code",
   "execution_count": 24,
   "id": "475f1e96",
   "metadata": {},
   "outputs": [
    {
     "data": {
      "text/html": [
       "<div>\n",
       "<style scoped>\n",
       "    .dataframe tbody tr th:only-of-type {\n",
       "        vertical-align: middle;\n",
       "    }\n",
       "\n",
       "    .dataframe tbody tr th {\n",
       "        vertical-align: top;\n",
       "    }\n",
       "\n",
       "    .dataframe thead th {\n",
       "        text-align: right;\n",
       "    }\n",
       "</style>\n",
       "<table border=\"1\" class=\"dataframe\">\n",
       "  <thead>\n",
       "    <tr style=\"text-align: right;\">\n",
       "      <th></th>\n",
       "      <th>prices</th>\n",
       "    </tr>\n",
       "    <tr>\n",
       "      <th>age_fam_profile</th>\n",
       "      <th></th>\n",
       "    </tr>\n",
       "  </thead>\n",
       "  <tbody>\n",
       "    <tr>\n",
       "      <th>Young single adult</th>\n",
       "      <td>32246314.6</td>\n",
       "    </tr>\n",
       "    <tr>\n",
       "      <th>Young married adult</th>\n",
       "      <td>50766622.1</td>\n",
       "    </tr>\n",
       "    <tr>\n",
       "      <th>Middle-aged single adult</th>\n",
       "      <td>18953345.7</td>\n",
       "    </tr>\n",
       "    <tr>\n",
       "      <th>Middle-aged married adult</th>\n",
       "      <td>56807815.4</td>\n",
       "    </tr>\n",
       "    <tr>\n",
       "      <th>Older single adult</th>\n",
       "      <td>20632376.6</td>\n",
       "    </tr>\n",
       "    <tr>\n",
       "      <th>Older married adult</th>\n",
       "      <td>61787811.4</td>\n",
       "    </tr>\n",
       "  </tbody>\n",
       "</table>\n",
       "</div>"
      ],
      "text/plain": [
       "                               prices\n",
       "age_fam_profile                      \n",
       "Young single adult         32246314.6\n",
       "Young married adult        50766622.1\n",
       "Middle-aged single adult   18953345.7\n",
       "Middle-aged married adult  56807815.4\n",
       "Older single adult         20632376.6\n",
       "Older married adult        61787811.4"
      ]
     },
     "execution_count": 24,
     "metadata": {},
     "output_type": "execute_result"
    }
   ],
   "source": [
    "# Total expenditure by the customer profiles\n",
    "\n",
    "df.groupby('age_fam_profile').agg({'prices': 'sum'}).loc[desired_order]"
   ]
  },
  {
   "cell_type": "markdown",
   "id": "d5af9fa0",
   "metadata": {},
   "source": [
    "##### Married people spend more money in total than single people."
   ]
  },
  {
   "cell_type": "code",
   "execution_count": 25,
   "id": "26f71ea0",
   "metadata": {},
   "outputs": [
    {
     "data": {
      "image/png": "[encoded data removed]",
      "text/plain": [
       "<Figure size 1600x1000 with 1 Axes>"
      ]
     },
     "metadata": {},
     "output_type": "display_data"
    }
   ],
   "source": [
    "# Create a horizontal bar chart\n",
    "\n",
    "bar_expend_profile = df.groupby('age_fam_profile').agg({'prices': 'sum'}).loc[desired_order].plot.barh(figsize=(16, 10))\n",
    "plt.title('Total Expenditure by Age-Family Profiles')\n",
    "plt.ylabel('Age-Family Profiles')\n",
    "plt.xlabel('Expenditure')\n",
    "plt.legend().remove()"
   ]
  },
  {
   "cell_type": "code",
   "execution_count": 26,
   "id": "5b394285",
   "metadata": {},
   "outputs": [],
   "source": [
    "# Export chart\n",
    "\n",
    "bar_expend_profile.figure.savefig(os.path.join(path, '04 Analysis','Visualizations', 'expenditure_profile.png'))"
   ]
  },
  {
   "cell_type": "markdown",
   "id": "5117903c",
   "metadata": {},
   "source": [
    "# 3. Customer profiles across regions and departments"
   ]
  },
  {
   "cell_type": "markdown",
   "id": "e8fe16b1",
   "metadata": {},
   "source": [
    "## 3.1 Regional comparison"
   ]
  },
  {
   "cell_type": "code",
   "execution_count": 27,
   "id": "2cc476bf",
   "metadata": {},
   "outputs": [],
   "source": [
    "# Crosstab customer profile with region\n",
    "\n",
    "crosstab_profile_region = pd.crosstab(df['age_fam_profile'], df['region'], dropna = False).loc[desired_order]"
   ]
  },
  {
   "cell_type": "code",
   "execution_count": 28,
   "id": "dfd302bc",
   "metadata": {},
   "outputs": [
    {
     "data": {
      "text/html": [
       "<div>\n",
       "<style scoped>\n",
       "    .dataframe tbody tr th:only-of-type {\n",
       "        vertical-align: middle;\n",
       "    }\n",
       "\n",
       "    .dataframe tbody tr th {\n",
       "        vertical-align: top;\n",
       "    }\n",
       "\n",
       "    .dataframe thead th {\n",
       "        text-align: right;\n",
       "    }\n",
       "</style>\n",
       "<table border=\"1\" class=\"dataframe\">\n",
       "  <thead>\n",
       "    <tr style=\"text-align: right;\">\n",
       "      <th>region</th>\n",
       "      <th>Midwest</th>\n",
       "      <th>Northwest</th>\n",
       "      <th>South</th>\n",
       "      <th>West</th>\n",
       "    </tr>\n",
       "    <tr>\n",
       "      <th>age_fam_profile</th>\n",
       "      <th></th>\n",
       "      <th></th>\n",
       "      <th></th>\n",
       "      <th></th>\n",
       "    </tr>\n",
       "  </thead>\n",
       "  <tbody>\n",
       "    <tr>\n",
       "      <th>Young single adult</th>\n",
       "      <td>968109</td>\n",
       "      <td>727357</td>\n",
       "      <td>1412481</td>\n",
       "      <td>1037809</td>\n",
       "    </tr>\n",
       "    <tr>\n",
       "      <th>Young married adult</th>\n",
       "      <td>1517244</td>\n",
       "      <td>1146245</td>\n",
       "      <td>2199116</td>\n",
       "      <td>1666610</td>\n",
       "    </tr>\n",
       "    <tr>\n",
       "      <th>Middle-aged single adult</th>\n",
       "      <td>590403</td>\n",
       "      <td>406029</td>\n",
       "      <td>799892</td>\n",
       "      <td>640025</td>\n",
       "    </tr>\n",
       "    <tr>\n",
       "      <th>Middle-aged married adult</th>\n",
       "      <td>1734752</td>\n",
       "      <td>1304473</td>\n",
       "      <td>2384658</td>\n",
       "      <td>1874111</td>\n",
       "    </tr>\n",
       "    <tr>\n",
       "      <th>Older single adult</th>\n",
       "      <td>617718</td>\n",
       "      <td>479247</td>\n",
       "      <td>878059</td>\n",
       "      <td>672775</td>\n",
       "    </tr>\n",
       "    <tr>\n",
       "      <th>Older married adult</th>\n",
       "      <td>1839676</td>\n",
       "      <td>1406813</td>\n",
       "      <td>2646625</td>\n",
       "      <td>2043262</td>\n",
       "    </tr>\n",
       "  </tbody>\n",
       "</table>\n",
       "</div>"
      ],
      "text/plain": [
       "region                     Midwest  Northwest    South     West\n",
       "age_fam_profile                                                \n",
       "Young single adult          968109     727357  1412481  1037809\n",
       "Young married adult        1517244    1146245  2199116  1666610\n",
       "Middle-aged single adult    590403     406029   799892   640025\n",
       "Middle-aged married adult  1734752    1304473  2384658  1874111\n",
       "Older single adult          617718     479247   878059   672775\n",
       "Older married adult        1839676    1406813  2646625  2043262"
      ]
     },
     "execution_count": 28,
     "metadata": {},
     "output_type": "execute_result"
    }
   ],
   "source": [
    "crosstab_profile_region"
   ]
  },
  {
   "cell_type": "code",
   "execution_count": 50,
   "id": "2130c0eb",
   "metadata": {},
   "outputs": [
    {
     "data": {
      "text/plain": [
       "<matplotlib.legend.Legend at 0x202abda5010>"
      ]
     },
     "execution_count": 50,
     "metadata": {},
     "output_type": "execute_result"
    },
    {
     "data": {
      "image/png": "[encoded data removed]",
      "text/plain": [
       "<Figure size 1600x800 with 1 Axes>"
      ]
     },
     "metadata": {},
     "output_type": "display_data"
    }
   ],
   "source": [
    "# Create a stacked bar chart\n",
    "\n",
    "bar_profile_region = crosstab_profile_region.plot.barh(figsize=(16, 8))\n",
    "\n",
    "plt.title('Distribution of Age-Family Profiles by Region')\n",
    "plt.ylabel(' ')\n",
    "plt.xlabel('Frequency of Product Orders')\n",
    "plt.legend(title='Region', loc='lower right')"
   ]
  },
  {
   "cell_type": "markdown",
   "id": "a008e119",
   "metadata": {},
   "source": [
    "##### Married people purchase more items than single people across all four regions."
   ]
  },
  {
   "cell_type": "code",
   "execution_count": 51,
   "id": "2e6e60c7",
   "metadata": {},
   "outputs": [],
   "source": [
    "# Export chart\n",
    "\n",
    "bar_profile_region.figure.savefig(os.path.join(path, '04 Analysis','Visualizations', 'profile_region.png'))"
   ]
  },
  {
   "cell_type": "markdown",
   "id": "0f8dfe1c",
   "metadata": {},
   "source": [
    "## 3.2 Departmental comparison"
   ]
  },
  {
   "cell_type": "code",
   "execution_count": 16,
   "id": "1cf17ad8",
   "metadata": {},
   "outputs": [
    {
     "data": {
      "text/html": [
       "<div>\n",
       "<style scoped>\n",
       "    .dataframe tbody tr th:only-of-type {\n",
       "        vertical-align: middle;\n",
       "    }\n",
       "\n",
       "    .dataframe tbody tr th {\n",
       "        vertical-align: top;\n",
       "    }\n",
       "\n",
       "    .dataframe thead th {\n",
       "        text-align: right;\n",
       "    }\n",
       "</style>\n",
       "<table border=\"1\" class=\"dataframe\">\n",
       "  <thead>\n",
       "    <tr style=\"text-align: right;\">\n",
       "      <th></th>\n",
       "      <th>Unnamed: 0</th>\n",
       "      <th>department</th>\n",
       "    </tr>\n",
       "  </thead>\n",
       "  <tbody>\n",
       "    <tr>\n",
       "      <th>0</th>\n",
       "      <td>1</td>\n",
       "      <td>frozen</td>\n",
       "    </tr>\n",
       "    <tr>\n",
       "      <th>1</th>\n",
       "      <td>2</td>\n",
       "      <td>other</td>\n",
       "    </tr>\n",
       "    <tr>\n",
       "      <th>2</th>\n",
       "      <td>3</td>\n",
       "      <td>bakery</td>\n",
       "    </tr>\n",
       "    <tr>\n",
       "      <th>3</th>\n",
       "      <td>4</td>\n",
       "      <td>produce</td>\n",
       "    </tr>\n",
       "    <tr>\n",
       "      <th>4</th>\n",
       "      <td>5</td>\n",
       "      <td>alcohol</td>\n",
       "    </tr>\n",
       "  </tbody>\n",
       "</table>\n",
       "</div>"
      ],
      "text/plain": [
       "   Unnamed: 0 department\n",
       "0           1     frozen\n",
       "1           2      other\n",
       "2           3     bakery\n",
       "3           4    produce\n",
       "4           5    alcohol"
      ]
     },
     "execution_count": 16,
     "metadata": {},
     "output_type": "execute_result"
    }
   ],
   "source": [
    "# Check the dataframe with the department names\n",
    "\n",
    "df_dep.head()"
   ]
  },
  {
   "cell_type": "code",
   "execution_count": 17,
   "id": "d3876cbd",
   "metadata": {},
   "outputs": [],
   "source": [
    "# Rename the first column as \"department_id\"\n",
    "\n",
    "df_dep.rename(columns={'Unnamed: 0':'department_id'}, inplace=True)"
   ]
  },
  {
   "cell_type": "code",
   "execution_count": 18,
   "id": "2820ee09",
   "metadata": {},
   "outputs": [],
   "source": [
    "# Merge the large dataframe with df_dep\n",
    "\n",
    "df_2 = df.merge(df_dep, on = 'department_id', indicator = '_merge4')"
   ]
  },
  {
   "cell_type": "code",
   "execution_count": 19,
   "id": "80e3fc32",
   "metadata": {},
   "outputs": [
    {
     "data": {
      "text/html": [
       "<div>\n",
       "<style scoped>\n",
       "    .dataframe tbody tr th:only-of-type {\n",
       "        vertical-align: middle;\n",
       "    }\n",
       "\n",
       "    .dataframe tbody tr th {\n",
       "        vertical-align: top;\n",
       "    }\n",
       "\n",
       "    .dataframe thead th {\n",
       "        text-align: right;\n",
       "    }\n",
       "</style>\n",
       "<table border=\"1\" class=\"dataframe\">\n",
       "  <thead>\n",
       "    <tr style=\"text-align: right;\">\n",
       "      <th></th>\n",
       "      <th>order_id</th>\n",
       "      <th>user_id</th>\n",
       "      <th>order_number</th>\n",
       "      <th>orders_day_of_week</th>\n",
       "      <th>order_hour_of_day</th>\n",
       "      <th>days_since_prior_order</th>\n",
       "      <th>product_id</th>\n",
       "      <th>add_to_cart_order</th>\n",
       "      <th>reordered</th>\n",
       "      <th>_merge</th>\n",
       "      <th>...</th>\n",
       "      <th>date_joined</th>\n",
       "      <th>nr_dependants</th>\n",
       "      <th>fam_status</th>\n",
       "      <th>income</th>\n",
       "      <th>_merge3</th>\n",
       "      <th>region</th>\n",
       "      <th>activity_flag</th>\n",
       "      <th>age_fam_profile</th>\n",
       "      <th>department</th>\n",
       "      <th>_merge4</th>\n",
       "    </tr>\n",
       "  </thead>\n",
       "  <tbody>\n",
       "    <tr>\n",
       "      <th>0</th>\n",
       "      <td>2539329</td>\n",
       "      <td>1</td>\n",
       "      <td>1</td>\n",
       "      <td>2</td>\n",
       "      <td>8</td>\n",
       "      <td>NaN</td>\n",
       "      <td>196</td>\n",
       "      <td>1</td>\n",
       "      <td>0</td>\n",
       "      <td>both</td>\n",
       "      <td>...</td>\n",
       "      <td>2/17/2019</td>\n",
       "      <td>3</td>\n",
       "      <td>married</td>\n",
       "      <td>40423</td>\n",
       "      <td>both</td>\n",
       "      <td>South</td>\n",
       "      <td>Active customers</td>\n",
       "      <td>Young married adult</td>\n",
       "      <td>beverages</td>\n",
       "      <td>both</td>\n",
       "    </tr>\n",
       "    <tr>\n",
       "      <th>1</th>\n",
       "      <td>2398795</td>\n",
       "      <td>1</td>\n",
       "      <td>2</td>\n",
       "      <td>3</td>\n",
       "      <td>7</td>\n",
       "      <td>15.0</td>\n",
       "      <td>196</td>\n",
       "      <td>1</td>\n",
       "      <td>1</td>\n",
       "      <td>both</td>\n",
       "      <td>...</td>\n",
       "      <td>2/17/2019</td>\n",
       "      <td>3</td>\n",
       "      <td>married</td>\n",
       "      <td>40423</td>\n",
       "      <td>both</td>\n",
       "      <td>South</td>\n",
       "      <td>Active customers</td>\n",
       "      <td>Young married adult</td>\n",
       "      <td>beverages</td>\n",
       "      <td>both</td>\n",
       "    </tr>\n",
       "    <tr>\n",
       "      <th>2</th>\n",
       "      <td>473747</td>\n",
       "      <td>1</td>\n",
       "      <td>3</td>\n",
       "      <td>3</td>\n",
       "      <td>12</td>\n",
       "      <td>21.0</td>\n",
       "      <td>196</td>\n",
       "      <td>1</td>\n",
       "      <td>1</td>\n",
       "      <td>both</td>\n",
       "      <td>...</td>\n",
       "      <td>2/17/2019</td>\n",
       "      <td>3</td>\n",
       "      <td>married</td>\n",
       "      <td>40423</td>\n",
       "      <td>both</td>\n",
       "      <td>South</td>\n",
       "      <td>Active customers</td>\n",
       "      <td>Young married adult</td>\n",
       "      <td>beverages</td>\n",
       "      <td>both</td>\n",
       "    </tr>\n",
       "    <tr>\n",
       "      <th>3</th>\n",
       "      <td>2254736</td>\n",
       "      <td>1</td>\n",
       "      <td>4</td>\n",
       "      <td>4</td>\n",
       "      <td>7</td>\n",
       "      <td>29.0</td>\n",
       "      <td>196</td>\n",
       "      <td>1</td>\n",
       "      <td>1</td>\n",
       "      <td>both</td>\n",
       "      <td>...</td>\n",
       "      <td>2/17/2019</td>\n",
       "      <td>3</td>\n",
       "      <td>married</td>\n",
       "      <td>40423</td>\n",
       "      <td>both</td>\n",
       "      <td>South</td>\n",
       "      <td>Active customers</td>\n",
       "      <td>Young married adult</td>\n",
       "      <td>beverages</td>\n",
       "      <td>both</td>\n",
       "    </tr>\n",
       "    <tr>\n",
       "      <th>4</th>\n",
       "      <td>431534</td>\n",
       "      <td>1</td>\n",
       "      <td>5</td>\n",
       "      <td>4</td>\n",
       "      <td>15</td>\n",
       "      <td>28.0</td>\n",
       "      <td>196</td>\n",
       "      <td>1</td>\n",
       "      <td>1</td>\n",
       "      <td>both</td>\n",
       "      <td>...</td>\n",
       "      <td>2/17/2019</td>\n",
       "      <td>3</td>\n",
       "      <td>married</td>\n",
       "      <td>40423</td>\n",
       "      <td>both</td>\n",
       "      <td>South</td>\n",
       "      <td>Active customers</td>\n",
       "      <td>Young married adult</td>\n",
       "      <td>beverages</td>\n",
       "      <td>both</td>\n",
       "    </tr>\n",
       "  </tbody>\n",
       "</table>\n",
       "<p>5 rows × 40 columns</p>\n",
       "</div>"
      ],
      "text/plain": [
       "   order_id  user_id  order_number  orders_day_of_week  order_hour_of_day  \\\n",
       "0   2539329        1             1                   2                  8   \n",
       "1   2398795        1             2                   3                  7   \n",
       "2    473747        1             3                   3                 12   \n",
       "3   2254736        1             4                   4                  7   \n",
       "4    431534        1             5                   4                 15   \n",
       "\n",
       "   days_since_prior_order  product_id  add_to_cart_order  reordered _merge  \\\n",
       "0                     NaN         196                  1          0   both   \n",
       "1                    15.0         196                  1          1   both   \n",
       "2                    21.0         196                  1          1   both   \n",
       "3                    29.0         196                  1          1   both   \n",
       "4                    28.0         196                  1          1   both   \n",
       "\n",
       "   ... date_joined  nr_dependants  fam_status  income _merge3 region  \\\n",
       "0  ...   2/17/2019              3     married   40423    both  South   \n",
       "1  ...   2/17/2019              3     married   40423    both  South   \n",
       "2  ...   2/17/2019              3     married   40423    both  South   \n",
       "3  ...   2/17/2019              3     married   40423    both  South   \n",
       "4  ...   2/17/2019              3     married   40423    both  South   \n",
       "\n",
       "      activity_flag      age_fam_profile department  _merge4  \n",
       "0  Active customers  Young married adult  beverages     both  \n",
       "1  Active customers  Young married adult  beverages     both  \n",
       "2  Active customers  Young married adult  beverages     both  \n",
       "3  Active customers  Young married adult  beverages     both  \n",
       "4  Active customers  Young married adult  beverages     both  \n",
       "\n",
       "[5 rows x 40 columns]"
      ]
     },
     "execution_count": 19,
     "metadata": {},
     "output_type": "execute_result"
    }
   ],
   "source": [
    "df_2.head()"
   ]
  },
  {
   "cell_type": "code",
   "execution_count": 20,
   "id": "8cacdd9c",
   "metadata": {},
   "outputs": [],
   "source": [
    "# Crosstab customer profil with departments\n",
    "\n",
    "crosstab_profile_dep = pd.crosstab(df_2['department'], df_2['age_fam_profile'], dropna = False)"
   ]
  },
  {
   "cell_type": "code",
   "execution_count": 21,
   "id": "8372b02d",
   "metadata": {},
   "outputs": [],
   "source": [
    "# Calculate the row sums and sort the crosstab based on row sums; sort 'age_fam_profile' in the desired order\n",
    "\n",
    "row_sums = crosstab_profile_dep.sum(axis=1)"
   ]
  },
  {
   "cell_type": "code",
   "execution_count": 24,
   "id": "78f694b0",
   "metadata": {},
   "outputs": [],
   "source": [
    "ct_sorted = crosstab_profile_dep.loc[row_sums.sort_values(ascending=True).index][desired_order]"
   ]
  },
  {
   "cell_type": "code",
   "execution_count": 25,
   "id": "9f880a66",
   "metadata": {},
   "outputs": [
    {
     "data": {
      "text/html": [
       "<div>\n",
       "<style scoped>\n",
       "    .dataframe tbody tr th:only-of-type {\n",
       "        vertical-align: middle;\n",
       "    }\n",
       "\n",
       "    .dataframe tbody tr th {\n",
       "        vertical-align: top;\n",
       "    }\n",
       "\n",
       "    .dataframe thead th {\n",
       "        text-align: right;\n",
       "    }\n",
       "</style>\n",
       "<table border=\"1\" class=\"dataframe\">\n",
       "  <thead>\n",
       "    <tr style=\"text-align: right;\">\n",
       "      <th>age_fam_profile</th>\n",
       "      <th>Young single adult</th>\n",
       "      <th>Young married adult</th>\n",
       "      <th>Middle-aged single adult</th>\n",
       "      <th>Middle-aged married adult</th>\n",
       "      <th>Older single adult</th>\n",
       "      <th>Older married adult</th>\n",
       "    </tr>\n",
       "    <tr>\n",
       "      <th>department</th>\n",
       "      <th></th>\n",
       "      <th></th>\n",
       "      <th></th>\n",
       "      <th></th>\n",
       "      <th></th>\n",
       "      <th></th>\n",
       "    </tr>\n",
       "  </thead>\n",
       "  <tbody>\n",
       "    <tr>\n",
       "      <th>bulk</th>\n",
       "      <td>4423</td>\n",
       "      <td>7201</td>\n",
       "      <td>2534</td>\n",
       "      <td>7869</td>\n",
       "      <td>2676</td>\n",
       "      <td>8748</td>\n",
       "    </tr>\n",
       "    <tr>\n",
       "      <th>other</th>\n",
       "      <td>4942</td>\n",
       "      <td>7176</td>\n",
       "      <td>2745</td>\n",
       "      <td>7944</td>\n",
       "      <td>2842</td>\n",
       "      <td>8762</td>\n",
       "    </tr>\n",
       "    <tr>\n",
       "      <th>missing</th>\n",
       "      <td>9085</td>\n",
       "      <td>13414</td>\n",
       "      <td>5103</td>\n",
       "      <td>15379</td>\n",
       "      <td>5064</td>\n",
       "      <td>16723</td>\n",
       "    </tr>\n",
       "    <tr>\n",
       "      <th>pets</th>\n",
       "      <td>13461</td>\n",
       "      <td>18457</td>\n",
       "      <td>7454</td>\n",
       "      <td>21933</td>\n",
       "      <td>8025</td>\n",
       "      <td>23730</td>\n",
       "    </tr>\n",
       "    <tr>\n",
       "      <th>alcohol</th>\n",
       "      <td>20994</td>\n",
       "      <td>30662</td>\n",
       "      <td>12353</td>\n",
       "      <td>33022</td>\n",
       "      <td>11859</td>\n",
       "      <td>35737</td>\n",
       "    </tr>\n",
       "    <tr>\n",
       "      <th>international</th>\n",
       "      <td>34961</td>\n",
       "      <td>53885</td>\n",
       "      <td>20080</td>\n",
       "      <td>60617</td>\n",
       "      <td>21814</td>\n",
       "      <td>64634</td>\n",
       "    </tr>\n",
       "    <tr>\n",
       "      <th>babies</th>\n",
       "      <td>55705</td>\n",
       "      <td>85751</td>\n",
       "      <td>32653</td>\n",
       "      <td>97545</td>\n",
       "      <td>34351</td>\n",
       "      <td>104387</td>\n",
       "    </tr>\n",
       "    <tr>\n",
       "      <th>personal care</th>\n",
       "      <td>56941</td>\n",
       "      <td>87866</td>\n",
       "      <td>33152</td>\n",
       "      <td>102619</td>\n",
       "      <td>36313</td>\n",
       "      <td>107415</td>\n",
       "    </tr>\n",
       "    <tr>\n",
       "      <th>breakfast</th>\n",
       "      <td>90047</td>\n",
       "      <td>141892</td>\n",
       "      <td>52993</td>\n",
       "      <td>158167</td>\n",
       "      <td>56590</td>\n",
       "      <td>171161</td>\n",
       "    </tr>\n",
       "    <tr>\n",
       "      <th>meat seafood</th>\n",
       "      <td>88608</td>\n",
       "      <td>141891</td>\n",
       "      <td>51993</td>\n",
       "      <td>159537</td>\n",
       "      <td>57621</td>\n",
       "      <td>175131</td>\n",
       "    </tr>\n",
       "    <tr>\n",
       "      <th>household</th>\n",
       "      <td>92940</td>\n",
       "      <td>146165</td>\n",
       "      <td>53321</td>\n",
       "      <td>166796</td>\n",
       "      <td>58446</td>\n",
       "      <td>182190</td>\n",
       "    </tr>\n",
       "    <tr>\n",
       "      <th>dry goods pasta</th>\n",
       "      <td>109833</td>\n",
       "      <td>173666</td>\n",
       "      <td>63754</td>\n",
       "      <td>194781</td>\n",
       "      <td>70251</td>\n",
       "      <td>209851</td>\n",
       "    </tr>\n",
       "    <tr>\n",
       "      <th>deli</th>\n",
       "      <td>135001</td>\n",
       "      <td>210844</td>\n",
       "      <td>79751</td>\n",
       "      <td>234903</td>\n",
       "      <td>86749</td>\n",
       "      <td>256586</td>\n",
       "    </tr>\n",
       "    <tr>\n",
       "      <th>canned goods</th>\n",
       "      <td>135910</td>\n",
       "      <td>213806</td>\n",
       "      <td>79319</td>\n",
       "      <td>238592</td>\n",
       "      <td>84268</td>\n",
       "      <td>260179</td>\n",
       "    </tr>\n",
       "    <tr>\n",
       "      <th>bakery</th>\n",
       "      <td>150699</td>\n",
       "      <td>235303</td>\n",
       "      <td>88645</td>\n",
       "      <td>263735</td>\n",
       "      <td>95735</td>\n",
       "      <td>286711</td>\n",
       "    </tr>\n",
       "    <tr>\n",
       "      <th>pantry</th>\n",
       "      <td>238105</td>\n",
       "      <td>374057</td>\n",
       "      <td>139753</td>\n",
       "      <td>420829</td>\n",
       "      <td>151891</td>\n",
       "      <td>458070</td>\n",
       "    </tr>\n",
       "    <tr>\n",
       "      <th>frozen</th>\n",
       "      <td>281178</td>\n",
       "      <td>445625</td>\n",
       "      <td>167206</td>\n",
       "      <td>498759</td>\n",
       "      <td>183957</td>\n",
       "      <td>545007</td>\n",
       "    </tr>\n",
       "    <tr>\n",
       "      <th>beverages</th>\n",
       "      <td>340972</td>\n",
       "      <td>533201</td>\n",
       "      <td>202597</td>\n",
       "      <td>611462</td>\n",
       "      <td>220879</td>\n",
       "      <td>662790</td>\n",
       "    </tr>\n",
       "    <tr>\n",
       "      <th>snacks</th>\n",
       "      <td>368579</td>\n",
       "      <td>589708</td>\n",
       "      <td>216925</td>\n",
       "      <td>650461</td>\n",
       "      <td>236244</td>\n",
       "      <td>704489</td>\n",
       "    </tr>\n",
       "    <tr>\n",
       "      <th>dairy eggs</th>\n",
       "      <td>696276</td>\n",
       "      <td>1097027</td>\n",
       "      <td>405705</td>\n",
       "      <td>1215662</td>\n",
       "      <td>442602</td>\n",
       "      <td>1319911</td>\n",
       "    </tr>\n",
       "    <tr>\n",
       "      <th>produce</th>\n",
       "      <td>1213087</td>\n",
       "      <td>1915766</td>\n",
       "      <td>715799</td>\n",
       "      <td>2130503</td>\n",
       "      <td>777095</td>\n",
       "      <td>2327026</td>\n",
       "    </tr>\n",
       "  </tbody>\n",
       "</table>\n",
       "</div>"
      ],
      "text/plain": [
       "age_fam_profile  Young single adult  Young married adult  \\\n",
       "department                                                 \n",
       "bulk                           4423                 7201   \n",
       "other                          4942                 7176   \n",
       "missing                        9085                13414   \n",
       "pets                          13461                18457   \n",
       "alcohol                       20994                30662   \n",
       "international                 34961                53885   \n",
       "babies                        55705                85751   \n",
       "personal care                 56941                87866   \n",
       "breakfast                     90047               141892   \n",
       "meat seafood                  88608               141891   \n",
       "household                     92940               146165   \n",
       "dry goods pasta              109833               173666   \n",
       "deli                         135001               210844   \n",
       "canned goods                 135910               213806   \n",
       "bakery                       150699               235303   \n",
       "pantry                       238105               374057   \n",
       "frozen                       281178               445625   \n",
       "beverages                    340972               533201   \n",
       "snacks                       368579               589708   \n",
       "dairy eggs                   696276              1097027   \n",
       "produce                     1213087              1915766   \n",
       "\n",
       "age_fam_profile  Middle-aged single adult  Middle-aged married adult  \\\n",
       "department                                                             \n",
       "bulk                                 2534                       7869   \n",
       "other                                2745                       7944   \n",
       "missing                              5103                      15379   \n",
       "pets                                 7454                      21933   \n",
       "alcohol                             12353                      33022   \n",
       "international                       20080                      60617   \n",
       "babies                              32653                      97545   \n",
       "personal care                       33152                     102619   \n",
       "breakfast                           52993                     158167   \n",
       "meat seafood                        51993                     159537   \n",
       "household                           53321                     166796   \n",
       "dry goods pasta                     63754                     194781   \n",
       "deli                                79751                     234903   \n",
       "canned goods                        79319                     238592   \n",
       "bakery                              88645                     263735   \n",
       "pantry                             139753                     420829   \n",
       "frozen                             167206                     498759   \n",
       "beverages                          202597                     611462   \n",
       "snacks                             216925                     650461   \n",
       "dairy eggs                         405705                    1215662   \n",
       "produce                            715799                    2130503   \n",
       "\n",
       "age_fam_profile  Older single adult  Older married adult  \n",
       "department                                                \n",
       "bulk                           2676                 8748  \n",
       "other                          2842                 8762  \n",
       "missing                        5064                16723  \n",
       "pets                           8025                23730  \n",
       "alcohol                       11859                35737  \n",
       "international                 21814                64634  \n",
       "babies                        34351               104387  \n",
       "personal care                 36313               107415  \n",
       "breakfast                     56590               171161  \n",
       "meat seafood                  57621               175131  \n",
       "household                     58446               182190  \n",
       "dry goods pasta               70251               209851  \n",
       "deli                          86749               256586  \n",
       "canned goods                  84268               260179  \n",
       "bakery                        95735               286711  \n",
       "pantry                       151891               458070  \n",
       "frozen                       183957               545007  \n",
       "beverages                    220879               662790  \n",
       "snacks                       236244               704489  \n",
       "dairy eggs                   442602              1319911  \n",
       "produce                      777095              2327026  "
      ]
     },
     "execution_count": 25,
     "metadata": {},
     "output_type": "execute_result"
    }
   ],
   "source": [
    "ct_sorted"
   ]
  },
  {
   "cell_type": "code",
   "execution_count": 26,
   "id": "e5175618",
   "metadata": {},
   "outputs": [
    {
     "data": {
      "text/plain": [
       "<matplotlib.legend.Legend at 0x2cae25e4e50>"
      ]
     },
     "execution_count": 26,
     "metadata": {},
     "output_type": "execute_result"
    },
    {
     "data": {
      "image/png": "[encoded data removed]",
      "text/plain": [
       "<Figure size 1000x600 with 1 Axes>"
      ]
     },
     "metadata": {},
     "output_type": "display_data"
    }
   ],
   "source": [
    "# Create a stacked bar chart\n",
    "\n",
    "bar_profile_dep = ct_sorted.plot.barh(stacked=True, figsize=(10, 6))\n",
    "\n",
    "plt.title('Distribution of Age-Family Profiles by Department')\n",
    "plt.ylabel(' ')\n",
    "plt.xlabel('Frequency of Product Orders')\n",
    "plt.legend(title='Customer profile', loc='lower right')"
   ]
  },
  {
   "cell_type": "markdown",
   "id": "8c006394",
   "metadata": {},
   "source": [
    "##### Married people purchase more than single people across all departments."
   ]
  },
  {
   "cell_type": "code",
   "execution_count": 27,
   "id": "69fb12e8",
   "metadata": {},
   "outputs": [],
   "source": [
    "# Export chart\n",
    "\n",
    "bar_profile_dep.figure.savefig(os.path.join(path, '04 Analysis','Visualizations', 'profile_department.png'))"
   ]
  },
  {
   "cell_type": "markdown",
   "id": "f50be90a",
   "metadata": {},
   "source": [
    "# 4. Export data"
   ]
  },
  {
   "cell_type": "code",
   "execution_count": 41,
   "id": "d4ae45e6",
   "metadata": {},
   "outputs": [
    {
     "data": {
      "text/html": [
       "<div>\n",
       "<style scoped>\n",
       "    .dataframe tbody tr th:only-of-type {\n",
       "        vertical-align: middle;\n",
       "    }\n",
       "\n",
       "    .dataframe tbody tr th {\n",
       "        vertical-align: top;\n",
       "    }\n",
       "\n",
       "    .dataframe thead th {\n",
       "        text-align: right;\n",
       "    }\n",
       "</style>\n",
       "<table border=\"1\" class=\"dataframe\">\n",
       "  <thead>\n",
       "    <tr style=\"text-align: right;\">\n",
       "      <th></th>\n",
       "      <th>order_id</th>\n",
       "      <th>user_id</th>\n",
       "      <th>order_number</th>\n",
       "      <th>orders_day_of_week</th>\n",
       "      <th>order_hour_of_day</th>\n",
       "      <th>days_since_prior_order</th>\n",
       "      <th>product_id</th>\n",
       "      <th>add_to_cart_order</th>\n",
       "      <th>reordered</th>\n",
       "      <th>_merge</th>\n",
       "      <th>...</th>\n",
       "      <th>date_joined</th>\n",
       "      <th>nr_dependants</th>\n",
       "      <th>fam_status</th>\n",
       "      <th>income</th>\n",
       "      <th>_merge3</th>\n",
       "      <th>region</th>\n",
       "      <th>activity_flag</th>\n",
       "      <th>age_fam_profile</th>\n",
       "      <th>department</th>\n",
       "      <th>_merge4</th>\n",
       "    </tr>\n",
       "  </thead>\n",
       "  <tbody>\n",
       "    <tr>\n",
       "      <th>0</th>\n",
       "      <td>2539329</td>\n",
       "      <td>1</td>\n",
       "      <td>1</td>\n",
       "      <td>2</td>\n",
       "      <td>8</td>\n",
       "      <td>NaN</td>\n",
       "      <td>196</td>\n",
       "      <td>1</td>\n",
       "      <td>0</td>\n",
       "      <td>both</td>\n",
       "      <td>...</td>\n",
       "      <td>2/17/2019</td>\n",
       "      <td>3</td>\n",
       "      <td>married</td>\n",
       "      <td>40423</td>\n",
       "      <td>both</td>\n",
       "      <td>South</td>\n",
       "      <td>Active customers</td>\n",
       "      <td>Young married adult</td>\n",
       "      <td>beverages</td>\n",
       "      <td>both</td>\n",
       "    </tr>\n",
       "    <tr>\n",
       "      <th>1</th>\n",
       "      <td>2398795</td>\n",
       "      <td>1</td>\n",
       "      <td>2</td>\n",
       "      <td>3</td>\n",
       "      <td>7</td>\n",
       "      <td>15.0</td>\n",
       "      <td>196</td>\n",
       "      <td>1</td>\n",
       "      <td>1</td>\n",
       "      <td>both</td>\n",
       "      <td>...</td>\n",
       "      <td>2/17/2019</td>\n",
       "      <td>3</td>\n",
       "      <td>married</td>\n",
       "      <td>40423</td>\n",
       "      <td>both</td>\n",
       "      <td>South</td>\n",
       "      <td>Active customers</td>\n",
       "      <td>Young married adult</td>\n",
       "      <td>beverages</td>\n",
       "      <td>both</td>\n",
       "    </tr>\n",
       "    <tr>\n",
       "      <th>2</th>\n",
       "      <td>473747</td>\n",
       "      <td>1</td>\n",
       "      <td>3</td>\n",
       "      <td>3</td>\n",
       "      <td>12</td>\n",
       "      <td>21.0</td>\n",
       "      <td>196</td>\n",
       "      <td>1</td>\n",
       "      <td>1</td>\n",
       "      <td>both</td>\n",
       "      <td>...</td>\n",
       "      <td>2/17/2019</td>\n",
       "      <td>3</td>\n",
       "      <td>married</td>\n",
       "      <td>40423</td>\n",
       "      <td>both</td>\n",
       "      <td>South</td>\n",
       "      <td>Active customers</td>\n",
       "      <td>Young married adult</td>\n",
       "      <td>beverages</td>\n",
       "      <td>both</td>\n",
       "    </tr>\n",
       "    <tr>\n",
       "      <th>3</th>\n",
       "      <td>2254736</td>\n",
       "      <td>1</td>\n",
       "      <td>4</td>\n",
       "      <td>4</td>\n",
       "      <td>7</td>\n",
       "      <td>29.0</td>\n",
       "      <td>196</td>\n",
       "      <td>1</td>\n",
       "      <td>1</td>\n",
       "      <td>both</td>\n",
       "      <td>...</td>\n",
       "      <td>2/17/2019</td>\n",
       "      <td>3</td>\n",
       "      <td>married</td>\n",
       "      <td>40423</td>\n",
       "      <td>both</td>\n",
       "      <td>South</td>\n",
       "      <td>Active customers</td>\n",
       "      <td>Young married adult</td>\n",
       "      <td>beverages</td>\n",
       "      <td>both</td>\n",
       "    </tr>\n",
       "    <tr>\n",
       "      <th>4</th>\n",
       "      <td>431534</td>\n",
       "      <td>1</td>\n",
       "      <td>5</td>\n",
       "      <td>4</td>\n",
       "      <td>15</td>\n",
       "      <td>28.0</td>\n",
       "      <td>196</td>\n",
       "      <td>1</td>\n",
       "      <td>1</td>\n",
       "      <td>both</td>\n",
       "      <td>...</td>\n",
       "      <td>2/17/2019</td>\n",
       "      <td>3</td>\n",
       "      <td>married</td>\n",
       "      <td>40423</td>\n",
       "      <td>both</td>\n",
       "      <td>South</td>\n",
       "      <td>Active customers</td>\n",
       "      <td>Young married adult</td>\n",
       "      <td>beverages</td>\n",
       "      <td>both</td>\n",
       "    </tr>\n",
       "  </tbody>\n",
       "</table>\n",
       "<p>5 rows × 40 columns</p>\n",
       "</div>"
      ],
      "text/plain": [
       "   order_id  user_id  order_number  orders_day_of_week  order_hour_of_day  \\\n",
       "0   2539329        1             1                   2                  8   \n",
       "1   2398795        1             2                   3                  7   \n",
       "2    473747        1             3                   3                 12   \n",
       "3   2254736        1             4                   4                  7   \n",
       "4    431534        1             5                   4                 15   \n",
       "\n",
       "   days_since_prior_order  product_id  add_to_cart_order  reordered _merge  \\\n",
       "0                     NaN         196                  1          0   both   \n",
       "1                    15.0         196                  1          1   both   \n",
       "2                    21.0         196                  1          1   both   \n",
       "3                    29.0         196                  1          1   both   \n",
       "4                    28.0         196                  1          1   both   \n",
       "\n",
       "   ... date_joined  nr_dependants  fam_status  income _merge3 region  \\\n",
       "0  ...   2/17/2019              3     married   40423    both  South   \n",
       "1  ...   2/17/2019              3     married   40423    both  South   \n",
       "2  ...   2/17/2019              3     married   40423    both  South   \n",
       "3  ...   2/17/2019              3     married   40423    both  South   \n",
       "4  ...   2/17/2019              3     married   40423    both  South   \n",
       "\n",
       "      activity_flag      age_fam_profile department  _merge4  \n",
       "0  Active customers  Young married adult  beverages     both  \n",
       "1  Active customers  Young married adult  beverages     both  \n",
       "2  Active customers  Young married adult  beverages     both  \n",
       "3  Active customers  Young married adult  beverages     both  \n",
       "4  Active customers  Young married adult  beverages     both  \n",
       "\n",
       "[5 rows x 40 columns]"
      ]
     },
     "execution_count": 41,
     "metadata": {},
     "output_type": "execute_result"
    }
   ],
   "source": [
    "df_2.head()"
   ]
  },
  {
   "cell_type": "code",
   "execution_count": 42,
   "id": "c82aa786",
   "metadata": {},
   "outputs": [],
   "source": [
    "df_2.to_pickle(os.path.join(path, '02 Data','Prepared Data', 'orders_products_cust_active_dep.pkl'))"
   ]
  }
 ],
 "metadata": {
  "kernelspec": {
   "display_name": "Python 3 (ipykernel)",
   "language": "python",
   "name": "python3"
  },
  "language_info": {
   "codemirror_mode": {
    "name": "ipython",
    "version": 3
   },
   "file_extension": ".py",
   "mimetype": "text/x-python",
   "name": "python",
   "nbconvert_exporter": "python",
   "pygments_lexer": "ipython3",
   "version": "3.11.5"
  }
 },
 "nbformat": 4,
 "nbformat_minor": 5
}
